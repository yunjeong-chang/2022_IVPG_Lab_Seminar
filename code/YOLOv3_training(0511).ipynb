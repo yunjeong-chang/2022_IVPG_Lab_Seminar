{
  "cells": [
    {
      "cell_type": "markdown",
      "metadata": {
        "id": "view-in-github",
        "colab_type": "text"
      },
      "source": [
        "<a href=\"https://colab.research.google.com/github/yunjeong-chang/2022_IVPG_Lab_Seminar/blob/main/code/YOLOv3_training(0511).ipynb\" target=\"_parent\"><img src=\"https://colab.research.google.com/assets/colab-badge.svg\" alt=\"Open In Colab\"/></a>"
      ]
    },
    {
      "cell_type": "code",
      "execution_count": null,
      "metadata": {
        "colab": {
          "base_uri": "https://localhost:8080/"
        },
        "id": "8pOzVPKtvELZ",
        "outputId": "76f55ac7-ddeb-45d1-e233-8c9d802d9991"
      },
      "outputs": [
        {
          "output_type": "stream",
          "name": "stdout",
          "text": [
            "/content/drive/MyDrive/yolov3/TensorFlow-2.x-YOLOv3\n"
          ]
        }
      ],
      "source": [
        "cd /content/drive/MyDrive/yolov3/TensorFlow-2.x-YOLOv3"
      ]
    },
    {
      "cell_type": "code",
      "execution_count": null,
      "metadata": {
        "id": "Ij-WatcivqXY"
      },
      "outputs": [],
      "source": [
        "#Make_Data\n",
        "!python mnist/make_data.py"
      ]
    },
    {
      "cell_type": "code",
      "execution_count": null,
      "metadata": {
        "id": "Bw5a9daiv8lT"
      },
      "outputs": [],
      "source": [
        "#Training\n",
        "!python train.py\n",
        "#!tensorboard --logdir=log"
      ]
    },
    {
      "cell_type": "code",
      "execution_count": null,
      "metadata": {
        "id": "3OLsOpaiwF4V"
      },
      "outputs": [],
      "source": [
        "#Inference\n",
        "!python detect_mnist.py"
      ]
    }
  ],
  "metadata": {
    "accelerator": "GPU",
    "colab": {
      "name": "YOLOv3_training.ipynb",
      "provenance": [],
      "collapsed_sections": [],
      "mount_file_id": "1byJ_jNkqeEFm_meyP3DS6I8vzzEtOWj2",
      "authorship_tag": "ABX9TyP6C5FQ7SkowRKhY11X+5K6",
      "include_colab_link": true
    },
    "kernelspec": {
      "display_name": "Python 3",
      "name": "python3"
    },
    "language_info": {
      "name": "python"
    }
  },
  "nbformat": 4,
  "nbformat_minor": 0
}